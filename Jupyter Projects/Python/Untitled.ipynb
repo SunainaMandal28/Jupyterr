{
 "cells": [
  {
   "cell_type": "code",
   "execution_count": 1,
   "id": "2c899481-c53a-4792-8515-014649a386ad",
   "metadata": {},
   "outputs": [
    {
     "name": "stdin",
     "output_type": "stream",
     "text": [
      "Enter your city Bhadrapur\n"
     ]
    }
   ],
   "source": [
    "city= input(\"Enter your city\")"
   ]
  },
  {
   "cell_type": "code",
   "execution_count": 2,
   "id": "c2348b15-70df-45bb-a216-22b48c934588",
   "metadata": {},
   "outputs": [
    {
     "name": "stdin",
     "output_type": "stream",
     "text": [
      "Pet name Tommy\n"
     ]
    }
   ],
   "source": [
    "Pet_name = input(\"Pet name\")"
   ]
  },
  {
   "cell_type": "code",
   "execution_count": 3,
   "id": "300c1c24-9d13-4430-bf3c-94e4ef02a3e9",
   "metadata": {},
   "outputs": [],
   "source": [
    "brand_name = city +\" \"+Pet_name"
   ]
  },
  {
   "cell_type": "code",
   "execution_count": 4,
   "id": "84adaa37-3044-48d5-ba1c-353f3727457a",
   "metadata": {},
   "outputs": [
    {
     "name": "stdout",
     "output_type": "stream",
     "text": [
      "Bhadrapur Tommy\n"
     ]
    }
   ],
   "source": [
    "print(brand_name)"
   ]
  },
  {
   "cell_type": "code",
   "execution_count": null,
   "id": "c36b4203-2bf2-4c58-b540-20f058f0f1f1",
   "metadata": {},
   "outputs": [],
   "source": []
  }
 ],
 "metadata": {
  "kernelspec": {
   "display_name": "Python 3 (ipykernel)",
   "language": "python",
   "name": "python3"
  },
  "language_info": {
   "codemirror_mode": {
    "name": "ipython",
    "version": 3
   },
   "file_extension": ".py",
   "mimetype": "text/x-python",
   "name": "python",
   "nbconvert_exporter": "python",
   "pygments_lexer": "ipython3",
   "version": "3.10.3"
  }
 },
 "nbformat": 4,
 "nbformat_minor": 5
}
